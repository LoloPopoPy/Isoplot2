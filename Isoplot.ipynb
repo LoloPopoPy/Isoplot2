{
 "cells": [
  {
   "cell_type": "markdown",
   "metadata": {},
   "source": [
    "# Bienvenue dans le Notebook intéractif Isoplot2! Si vous reprennez le notebook après une utilisation précédente, il est conseillé de Clear All Outputs (dans Cell --> all outputs --> clear) pour avoir des outputs vides. \n",
    "# Pour commencer, lancez la cellule ci-dessous pour charger les librairies nécessaires au fonctionnement du Notebook"
   ]
  },
  {
   "cell_type": "code",
   "execution_count": null,
   "metadata": {},
   "outputs": [],
   "source": [
    "from isoplot.ui.isoplot_notebook import *"
   ]
  },
  {
   "cell_type": "markdown",
   "metadata": {},
   "source": [
    "## Lancez la cellule ci-dessous pour mettre en ligne les données, puis cliquez sur \"Create Template\". Ceci va générer un fichier de type excell que vous allez pouvoir modifier avec les différentes propriétés tels que condition, time points, ordre des conditions, etc... pour la génération des plots. Se référer au tutoriel pour plus d'infos."
   ]
  },
  {
   "cell_type": "code",
   "execution_count": null,
   "metadata": {},
   "outputs": [],
   "source": [
    "uploader = make_uploader()\n",
    "display(uploader, metadatabtn, out)"
   ]
  },
  {
   "cell_type": "markdown",
   "metadata": {},
   "source": [
    "## Lancez la cellule ci-dessous pour mettre en ligne le template modifié et cliquez sur \"Submit Template\". Ceci va préparer les données pour être plottées et va générer un fichier Data Export.xlsx dans lesquels toutes les informations sur les données utilisées seront publiées."
   ]
  },
  {
   "cell_type": "code",
   "execution_count": null,
   "metadata": {},
   "outputs": [],
   "source": [
    "mduploader = make_mduploader()\n",
    "display(mduploader, datamerge_btn, out2)"
   ]
  },
  {
   "cell_type": "markdown",
   "metadata": {},
   "source": [
    "## Lancez la cellule ci-dessous pour les plots statiques en individuel (sans moyenner les réplicats)"
   ]
  },
  {
   "cell_type": "code",
   "execution_count": null,
   "metadata": {
    "scrolled": false
   },
   "outputs": [],
   "source": [
    "#Et c'est parti!\n",
    "widgets.interact_manual(\n",
    "indiplot,\n",
    "data = widgets.fixed(vh.dfmerge),\n",
    "stack = widgets.Checkbox(value=True, description='Stacked barplots'),\n",
    "stackplot = widgets.Checkbox(value=False, description='Stacked Areaplot'),\n",
    "value = widgets.Dropdown(options= ['corrected_area', 'isotopologue_fraction', 'mean_enrichment'], value='corrected_area', description = 'Values:'),\n",
    "name = widgets.Text(description='Folder Name:'),\n",
    "fmt = widgets.Dropdown(options=['jpeg', 'png', 'pdf', 'svg',], description = 'Format'),\n",
    "metabolites = widgets.SelectMultiple(options=vh.dfmerge['metabolite'].unique(), description='Metabolite:'),\n",
    "conditions = widgets.SelectMultiple(options=vh.dfmerge['condition'].unique(), description='Conditions:'),\n",
    "times = widgets.SelectMultiple(options=vh.dfmerge['time'].unique(), description='Time points'),\n",
    "display = widgets.Checkbox(value=True, description='Display plots')\n",
    ")"
   ]
  },
  {
   "cell_type": "markdown",
   "metadata": {},
   "source": [
    "## Lancez la cellule ci-dessous pour les plots statiques en moyennant les réplicats(et avec les SD)"
   ]
  },
  {
   "cell_type": "code",
   "execution_count": null,
   "metadata": {
    "scrolled": false
   },
   "outputs": [],
   "source": [
    "#Et c'est parti!\n",
    "widgets.interact_manual(\n",
    "meanplot,\n",
    "data = widgets.fixed(vh.dfmerge),\n",
    "stack = widgets.Checkbox(value=True, description='Stacked barplots'),\n",
    "value = widgets.Dropdown(options= ['corrected_area', 'isotopologue_fraction', 'mean_enrichment'], value='corrected_area', description = 'Values:'),\n",
    "name = widgets.Text(description='Folder Name:'),\n",
    "fmt = widgets.Dropdown(options=['jpeg', 'png', 'pdf', 'svg',], description = 'Format'),\n",
    "metabolites = widgets.SelectMultiple(options=vh.dfmerge['metabolite'].unique(), description='Metabolite:'),\n",
    "conditions = widgets.SelectMultiple(options=vh.dfmerge['condition'].unique(), description='Conditions:'),\n",
    "times = widgets.SelectMultiple(options=vh.dfmerge['time'].unique(), description='Time points'),\n",
    "display = widgets.Checkbox(value=True, description='Display plots')\n",
    ")"
   ]
  },
  {
   "cell_type": "markdown",
   "metadata": {},
   "source": [
    "## Lancez la cellule ci-dessous pour les plots intéractifs en individuel (sans moyenner les réplicats)"
   ]
  },
  {
   "cell_type": "code",
   "execution_count": null,
   "metadata": {},
   "outputs": [],
   "source": [
    "widgets.interact_manual(\n",
    "indibokplot,\n",
    "data = widgets.fixed(vh.dfmerge),\n",
    "stack = widgets.Checkbox(value=True, description='Stacked barplots'),\n",
    "stackplot = widgets.Checkbox(value=False, description='Stacked Areaplot'),\n",
    "value = widgets.Dropdown(options= ['corrected_area', 'isotopologue_fraction', 'mean_enrichment'], value='corrected_area', description = 'Values:'),\n",
    "name = widgets.Text(description='Folder Name:'),\n",
    "metabolites = widgets.SelectMultiple(options=vh.dfmerge['metabolite'].unique(), description='Metabolite:'),\n",
    "conditions = widgets.SelectMultiple(options=vh.dfmerge['condition'].unique(), description='Conditions:'),\n",
    "times = widgets.SelectMultiple(options=vh.dfmerge['time'].unique(), description='Time points'),\n",
    "display = widgets.Checkbox(value=True, description='Display plots')\n",
    ")"
   ]
  },
  {
   "cell_type": "markdown",
   "metadata": {},
   "source": [
    "## Lancez la cellule ci-dessous pour les plots interactifs en moyennant les réplicats(et avec les SD)"
   ]
  },
  {
   "cell_type": "code",
   "execution_count": null,
   "metadata": {},
   "outputs": [],
   "source": [
    "widgets.interact_manual(\n",
    "meanbokplot,\n",
    "data = widgets.fixed(vh.dfmerge),\n",
    "stack = widgets.Checkbox(value=True, description='Stacked barplots'),\n",
    "value = widgets.Dropdown(options= ['corrected_area', 'isotopologue_fraction', 'mean_enrichment'], value='corrected_area', description = 'Values:'),\n",
    "name = widgets.Text(description='Folder Name:'),\n",
    "fmt = 'html',\n",
    "metabolites = widgets.SelectMultiple(options=vh.dfmerge['metabolite'].unique(), description='Metabolite:'),\n",
    "conditions = widgets.SelectMultiple(options=vh.dfmerge['condition'].unique(), description='Conditions:'),\n",
    "times = widgets.SelectMultiple(options=vh.dfmerge['time'].unique(), description='Time points'),\n",
    "display = widgets.Checkbox(value=True, description='Display plots'))"
   ]
  },
  {
   "cell_type": "markdown",
   "metadata": {},
   "source": [
    "## Lancez la cellule ci-dessous pour l'interface de génération des Maps statiques sur les enrichissements moyens"
   ]
  },
  {
   "cell_type": "code",
   "execution_count": null,
   "metadata": {},
   "outputs": [],
   "source": [
    "widgets.interact_manual(\n",
    "build_map,\n",
    "data=widgets.fixed(vh.dfmerge),\n",
    "map_select = widgets.Dropdown(options= ['Static heatmap', 'Clustermap', 'Interactive heatmap'], description = 'Map:'),\n",
    "annot = widgets.Checkbox(value=False, description=\"Show values\"),\n",
    "name = widgets.Text(description='File name:'),\n",
    "fmt = widgets.Dropdown(options=['jpeg', 'png', 'pdf', 'svg',], description = 'Format'),\n",
    "display = widgets.Checkbox(value=True, description='Display plots')\n",
    ")\n"
   ]
  }
 ],
 "metadata": {
  "kernelspec": {
   "display_name": "Python 3",
   "language": "python",
   "name": "python3"
  },
  "language_info": {
   "codemirror_mode": {
    "name": "ipython",
    "version": 3
   },
   "file_extension": ".py",
   "mimetype": "text/x-python",
   "name": "python",
   "nbconvert_exporter": "python",
   "pygments_lexer": "ipython3",
   "version": "3.8.5"
  }
 },
 "nbformat": 4,
 "nbformat_minor": 4
}
